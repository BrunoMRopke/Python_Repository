{
 "cells": [
  {
   "cell_type": "code",
   "execution_count": 7,
   "id": "290f484f",
   "metadata": {},
   "outputs": [],
   "source": [
    "import sys\n",
    "sys.path.append('C:/Users/bruno/Desktop/Portifolio')\n"
   ]
  },
  {
   "cell_type": "code",
   "execution_count": 8,
   "id": "adb708fd",
   "metadata": {},
   "outputs": [
    {
     "name": "stdout",
     "output_type": "stream",
     "text": [
      "Diretório atual: C:\\Users\\bruno\\Desktop\\Portifolio\n"
     ]
    }
   ],
   "source": [
    "import os\n",
    "print(\"Diretório atual:\", os.getcwd())"
   ]
  },
  {
   "cell_type": "code",
   "execution_count": 9,
   "id": "3e5a5113",
   "metadata": {},
   "outputs": [
    {
     "ename": "ModuleNotFoundError",
     "evalue": "No module named 'call_local_archive'",
     "output_type": "error",
     "traceback": [
      "\u001b[1;31m---------------------------------------------------------------------------\u001b[0m",
      "\u001b[1;31mModuleNotFoundError\u001b[0m                       Traceback (most recent call last)",
      "Cell \u001b[1;32mIn[9], line 2\u001b[0m\n\u001b[0;32m      1\u001b[0m \u001b[38;5;66;03m# Importar a função call_archive do módulo call_local_archive\u001b[39;00m\n\u001b[1;32m----> 2\u001b[0m \u001b[38;5;28;01mfrom\u001b[39;00m \u001b[38;5;21;01mcall_local_archive\u001b[39;00m\u001b[38;5;21;01m.\u001b[39;00m\u001b[38;5;21;01mipynb\u001b[39;00m \u001b[38;5;28;01mimport\u001b[39;00m call_archive\n",
      "\u001b[1;31mModuleNotFoundError\u001b[0m: No module named 'call_local_archive'"
     ]
    }
   ],
   "source": [
    "# Importar a função call_archive do módulo call_local_archive\n",
    "from call_local_archive.ipynb import call_archive"
   ]
  },
  {
   "cell_type": "code",
   "execution_count": 10,
   "id": "c8c565da",
   "metadata": {},
   "outputs": [
    {
     "ename": "NameError",
     "evalue": "name 'call_archive' is not defined",
     "output_type": "error",
     "traceback": [
      "\u001b[1;31m---------------------------------------------------------------------------\u001b[0m",
      "\u001b[1;31mNameError\u001b[0m                                 Traceback (most recent call last)",
      "Cell \u001b[1;32mIn[10], line 3\u001b[0m\n\u001b[0;32m      1\u001b[0m \u001b[38;5;66;03m# Agora, você pode usar a função call_archive como necessário\u001b[39;00m\n\u001b[0;32m      2\u001b[0m \u001b[38;5;66;03m# Por exemplo, para ler um arquivo CSV\u001b[39;00m\n\u001b[1;32m----> 3\u001b[0m dataframe_csv \u001b[38;5;241m=\u001b[39m call_archive(\u001b[38;5;124m'\u001b[39m\u001b[38;5;124mtrain.csv\u001b[39m\u001b[38;5;124m'\u001b[39m, \u001b[38;5;124m'\u001b[39m\u001b[38;5;124mC:/Users/bruno/Desktop/Portifolio\u001b[39m\u001b[38;5;124m'\u001b[39m)\n",
      "\u001b[1;31mNameError\u001b[0m: name 'call_archive' is not defined"
     ]
    }
   ],
   "source": [
    "# Agora, você pode usar a função call_archive como necessário\n",
    "# Por exemplo, para ler um arquivo CSV\n",
    "dataframe_csv = call_archive('train.csv', 'C:/Users/bruno/Desktop/Portifolio')\n",
    "\n",
    "# E para ler um arquivo SQL\n",
    "# dataframe_sql = call_archive('nome_do_seu_banco_de_dados.sql', 'C:/Users/bruno/Desktop/Portifolio')\n"
   ]
  },
  {
   "cell_type": "code",
   "execution_count": null,
   "id": "0b9f5d70",
   "metadata": {},
   "outputs": [],
   "source": []
  },
  {
   "cell_type": "code",
   "execution_count": null,
   "id": "511439eb",
   "metadata": {},
   "outputs": [],
   "source": []
  },
  {
   "cell_type": "code",
   "execution_count": null,
   "id": "3cb49554",
   "metadata": {},
   "outputs": [],
   "source": []
  }
 ],
 "metadata": {
  "kernelspec": {
   "display_name": "Python 3 (ipykernel)",
   "language": "python",
   "name": "python3"
  },
  "language_info": {
   "codemirror_mode": {
    "name": "ipython",
    "version": 3
   },
   "file_extension": ".py",
   "mimetype": "text/x-python",
   "name": "python",
   "nbconvert_exporter": "python",
   "pygments_lexer": "ipython3",
   "version": "3.11.5"
  }
 },
 "nbformat": 4,
 "nbformat_minor": 5
}
